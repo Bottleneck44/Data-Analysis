{
 "cells": [
  {
   "cell_type": "code",
   "execution_count": 3,
   "id": "135309e0-578b-421d-a0de-45f995392229",
   "metadata": {
    "tags": []
   },
   "outputs": [],
   "source": [
    "import pandas as pd\n",
    "from string import ascii_uppercase as alphabet"
   ]
  },
  {
   "cell_type": "code",
   "execution_count": 4,
   "id": "2d6c5a1e-0446-4a7e-8c0b-e0e2358e352c",
   "metadata": {
    "tags": []
   },
   "outputs": [],
   "source": [
    "all_tables = pd.read_html('https://en.wikipedia.org/wiki/2022_FIFA_World_Cup')\n",
    "dict_t = {}\n",
    "for letter,i in zip(alphabet,range(9,63,7)):\n",
    "    d = all_tables[i]\n",
    "    d.rename(columns={d.columns[1]:'Team'},inplace = True)\n",
    "    d.pop('Qualification')\n",
    "    dict_t[f'Group {letter}'] = d"
   ]
  },
  {
   "cell_type": "code",
   "execution_count": 5,
   "id": "1ec1cb0f-9010-46e5-a435-3096532b2a31",
   "metadata": {
    "tags": []
   },
   "outputs": [
    {
     "data": {
      "text/plain": [
       "dict_keys(['Group A', 'Group B', 'Group C', 'Group D', 'Group E', 'Group F', 'Group G', 'Group H'])"
      ]
     },
     "execution_count": 5,
     "metadata": {},
     "output_type": "execute_result"
    }
   ],
   "source": [
    "dict_t.keys()"
   ]
  },
  {
   "cell_type": "code",
   "execution_count": 6,
   "id": "3270c5c4-a345-4fe4-bc47-32df44d80528",
   "metadata": {
    "tags": []
   },
   "outputs": [
    {
     "name": "stdout",
     "output_type": "stream",
     "text": [
      "Requirement already satisfied: lxml in d:\\anaconda\\lib\\site-packages (4.9.3)\n"
     ]
    }
   ],
   "source": [
    "!pip install lxml\n"
   ]
  },
  {
   "cell_type": "code",
   "execution_count": 7,
   "id": "428499a4-19fa-4251-9531-65627fe3c470",
   "metadata": {
    "tags": []
   },
   "outputs": [
    {
     "name": "stdout",
     "output_type": "stream",
     "text": [
      "Requirement already satisfied: bs4 in d:\\anaconda\\lib\\site-packages (0.0.1)\n",
      "Requirement already satisfied: beautifulsoup4 in d:\\anaconda\\lib\\site-packages (from bs4) (4.12.2)\n",
      "Requirement already satisfied: soupsieve>1.2 in d:\\anaconda\\lib\\site-packages (from beautifulsoup4->bs4) (2.4)\n",
      "Requirement already satisfied: requests in d:\\anaconda\\lib\\site-packages (2.31.0)\n",
      "Requirement already satisfied: charset-normalizer<4,>=2 in d:\\anaconda\\lib\\site-packages (from requests) (2.0.4)\n",
      "Requirement already satisfied: idna<4,>=2.5 in d:\\anaconda\\lib\\site-packages (from requests) (3.4)\n",
      "Requirement already satisfied: urllib3<3,>=1.21.1 in d:\\anaconda\\lib\\site-packages (from requests) (1.26.16)\n",
      "Requirement already satisfied: certifi>=2017.4.17 in d:\\anaconda\\lib\\site-packages (from requests) (2023.7.22)\n"
     ]
    }
   ],
   "source": [
    "!pip install bs4\n",
    "!pip install requests"
   ]
  },
  {
   "cell_type": "code",
   "execution_count": 8,
   "id": "8a33870f-40d5-46c9-8fd7-000c7765493d",
   "metadata": {
    "tags": []
   },
   "outputs": [],
   "source": [
    "from bs4 import BeautifulSoup\n",
    "import requests\n",
    "years =  [1930,1934,1938,1950,1962,1966,1970,1974,1978,1982,1986,1990,1994,1998,2002,2006,2010,2014,2018,2022]\n",
    "def get_matches(year):\n",
    "    web = f'https://en.wikipedia.org/wiki/{year}_FIFA_World_Cup'\n",
    "\n",
    "    response = requests.get(web)\n",
    "    content = response.text\n",
    "\n",
    "    soup = BeautifulSoup(content,'lxml')\n",
    "    matches = soup.find_all('div',class_='footballbox')\n",
    "\n",
    "    home = []\n",
    "    score = []\n",
    "    away = []\n",
    "\n",
    "    for match in matches:\n",
    "        home.append(match.find('th',class_='fhome').get_text())\n",
    "        score.append(match.find('th',class_='fscore').get_text())\n",
    "        away.append(match.find('th',class_='faway').get_text())\n",
    "    footbal = {'Home':home,'Score':score,'Away':away}\n",
    "\n",
    "    fot = pd.DataFrame(footbal)\n",
    "    fot['Year'] = year\n",
    "    return fot\n",
    "fifa = [get_matches(year) for year in years]\n",
    "df_fifa = pd.concat(fifa,ignore_index=True)\n"
   ]
  },
  {
   "cell_type": "code",
   "execution_count": 9,
   "id": "6f917613-5223-4f0c-b073-f67a6890d154",
   "metadata": {
    "tags": []
   },
   "outputs": [],
   "source": [
    "df_fifa.to_csv('fifa worldcup historical data.csv',index =False )"
   ]
  },
  {
   "cell_type": "code",
   "execution_count": 10,
   "id": "79c114f9-1089-4948-ae91-b54bfba1dc5f",
   "metadata": {
    "tags": []
   },
   "outputs": [],
   "source": [
    "his = pd.read_csv('fifa worldcup historical data.csv')\n",
    "    "
   ]
  },
  {
   "cell_type": "code",
   "execution_count": 19,
   "id": "e96ef546-114a-4bde-a31f-9f07d987cdd0",
   "metadata": {
    "tags": []
   },
   "outputs": [
    {
     "data": {
      "text/html": [
       "<div>\n",
       "<style scoped>\n",
       "    .dataframe tbody tr th:only-of-type {\n",
       "        vertical-align: middle;\n",
       "    }\n",
       "\n",
       "    .dataframe tbody tr th {\n",
       "        vertical-align: top;\n",
       "    }\n",
       "\n",
       "    .dataframe thead th {\n",
       "        text-align: right;\n",
       "    }\n",
       "</style>\n",
       "<table border=\"1\" class=\"dataframe\">\n",
       "  <thead>\n",
       "    <tr style=\"text-align: right;\">\n",
       "      <th></th>\n",
       "      <th>Home</th>\n",
       "      <th>Score</th>\n",
       "      <th>Away</th>\n",
       "      <th>Year</th>\n",
       "    </tr>\n",
       "  </thead>\n",
       "  <tbody>\n",
       "    <tr>\n",
       "      <th>484</th>\n",
       "      <td>France</td>\n",
       "      <td>0–1</td>\n",
       "      <td>Senegal</td>\n",
       "      <td>2002</td>\n",
       "    </tr>\n",
       "    <tr>\n",
       "      <th>485</th>\n",
       "      <td>Uruguay</td>\n",
       "      <td>1–2</td>\n",
       "      <td>Denmark</td>\n",
       "      <td>2002</td>\n",
       "    </tr>\n",
       "    <tr>\n",
       "      <th>486</th>\n",
       "      <td>Denmark</td>\n",
       "      <td>1–1</td>\n",
       "      <td>Senegal</td>\n",
       "      <td>2002</td>\n",
       "    </tr>\n",
       "    <tr>\n",
       "      <th>487</th>\n",
       "      <td>France</td>\n",
       "      <td>0–0</td>\n",
       "      <td>Uruguay</td>\n",
       "      <td>2002</td>\n",
       "    </tr>\n",
       "    <tr>\n",
       "      <th>488</th>\n",
       "      <td>Denmark</td>\n",
       "      <td>2–0</td>\n",
       "      <td>France</td>\n",
       "      <td>2002</td>\n",
       "    </tr>\n",
       "  </tbody>\n",
       "</table>\n",
       "</div>"
      ],
      "text/plain": [
       "         Home Score      Away  Year\n",
       "484   France    0–1   Senegal  2002\n",
       "485  Uruguay    1–2   Denmark  2002\n",
       "486  Denmark    1–1   Senegal  2002\n",
       "487   France    0–0   Uruguay  2002\n",
       "488  Denmark    2–0    France  2002"
      ]
     },
     "execution_count": 19,
     "metadata": {},
     "output_type": "execute_result"
    }
   ],
   "source": [
    "four = his[his['Year']==2002]\n",
    "four.head()"
   ]
  },
  {
   "cell_type": "code",
   "execution_count": 49,
   "id": "74cd93ce-1f62-4652-ab72-bb71fac31b4f",
   "metadata": {
    "tags": []
   },
   "outputs": [
    {
     "name": "stdout",
     "output_type": "stream",
     "text": [
      "Requirement already satisfied: plotly in d:\\anaconda\\lib\\site-packages (5.9.0)\n",
      "Requirement already satisfied: tenacity>=6.2.0 in d:\\anaconda\\lib\\site-packages (from plotly) (8.2.2)\n"
     ]
    }
   ],
   "source": [
    "!pip install plotly"
   ]
  },
  {
   "cell_type": "code",
   "execution_count": 2,
   "id": "421d6156-03c0-4343-8fbd-4e6dde9287c3",
   "metadata": {
    "tags": []
   },
   "outputs": [
    {
     "ename": "NameError",
     "evalue": "name 'his' is not defined",
     "output_type": "error",
     "traceback": [
      "\u001b[1;31m---------------------------------------------------------------------------\u001b[0m",
      "\u001b[1;31mNameError\u001b[0m                                 Traceback (most recent call last)",
      "Cell \u001b[1;32mIn[2], line 1\u001b[0m\n\u001b[1;32m----> 1\u001b[0m his\u001b[38;5;241m.\u001b[39mhead(\u001b[38;5;241m40\u001b[39m)\n",
      "\u001b[1;31mNameError\u001b[0m: name 'his' is not defined"
     ]
    }
   ],
   "source": []
  },
  {
   "cell_type": "code",
   "execution_count": null,
   "id": "d81548ed-48ad-497f-b529-047fb9cfa7f5",
   "metadata": {},
   "outputs": [],
   "source": []
  }
 ],
 "metadata": {
  "kernelspec": {
   "display_name": "Python 3 (ipykernel)",
   "language": "python",
   "name": "python3"
  },
  "language_info": {
   "codemirror_mode": {
    "name": "ipython",
    "version": 3
   },
   "file_extension": ".py",
   "mimetype": "text/x-python",
   "name": "python",
   "nbconvert_exporter": "python",
   "pygments_lexer": "ipython3",
   "version": "3.11.5"
  }
 },
 "nbformat": 4,
 "nbformat_minor": 5
}
